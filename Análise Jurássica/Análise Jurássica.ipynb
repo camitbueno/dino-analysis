{
 "cells": [
  {
   "cell_type": "markdown",
   "id": "1698a00a",
   "metadata": {},
   "source": [
    "# Análise Jurássica"
   ]
  },
  {
   "cell_type": "code",
   "execution_count": 43,
   "id": "80162396",
   "metadata": {},
   "outputs": [
    {
     "data": {
      "text/html": [
       "<img src=\"https://s2.glbimg.com/Z8rOMhj50H_DEIJVpgal7_JtKvA=/e.glbimg.com/og/ed/f/original/2021/06/29/dinosaurs-were-in-decl-1.jpg\" width=\"700\" height=\"700\"/>"
      ],
      "text/plain": [
       "<IPython.core.display.Image object>"
      ]
     },
     "metadata": {},
     "output_type": "display_data"
    }
   ],
   "source": [
    "from IPython.display import display, Image\n",
    "\n",
    "imagem = 'https://s2.glbimg.com/Z8rOMhj50H_DEIJVpgal7_JtKvA=/e.glbimg.com/og/ed/f/original/2021/06/29/dinosaurs-were-in-decl-1.jpg'\n",
    "largura = 700 \n",
    "altura = 700\n",
    "display(Image(url=imagem, width=largura, height=altura))"
   ]
  },
  {
   "cell_type": "markdown",
   "id": "b52ae1e9",
   "metadata": {},
   "source": [
    "####  Fonte: https://www.kaggle.com/datasets/kjanjua/jurassic-park-the-exhaustive-dinosaur-dataset/data\n",
    "O dataset utilizado nessa análise é de 2021 e foi construído através de um webscrapping do site do Museu de História Natural do Reino Unido.\n"
   ]
  },
  {
   "cell_type": "markdown",
   "id": "e6916c94",
   "metadata": {},
   "source": [
    "### 1. Definição do problema: \n",
    "- Em quais países identificamos os maiores dinossauros?\n",
    "- Quais períodos jurássicos possuíam os maiores dinossauros? \n",
    "- Qual o tipo da dieta de dinossauro mais catalogada no dataset? (carnívoro, herbívoro, onívoro)"
   ]
  },
  {
   "cell_type": "markdown",
   "id": "2d427a72",
   "metadata": {},
   "source": [
    "### 2. Preparação e exploração de dados."
   ]
  },
  {
   "cell_type": "code",
   "execution_count": 1,
   "id": "6c0d353e",
   "metadata": {},
   "outputs": [],
   "source": [
    "# Importando as bibliotecas necessárias\n",
    "import pandas as pd \n",
    "import numpy as np \n",
    "import seaborn as sns\n",
    "import matplotlib.pyplot as plt\n",
    "%matplotlib inline "
   ]
  },
  {
   "cell_type": "code",
   "execution_count": 2,
   "id": "7e8254c4",
   "metadata": {},
   "outputs": [],
   "source": [
    "# Rejeitando warnings\n",
    "import warnings \n",
    "\n",
    "warnings.filterwarnings('ignore')"
   ]
  },
  {
   "cell_type": "code",
   "execution_count": 3,
   "id": "3608aee7",
   "metadata": {},
   "outputs": [],
   "source": [
    "# Encontrei um erro na linha 52 do arquivo original.\n",
    "# o que me obrigou a abrir o arquivo csv e ir até tal linha identificar um erro na separação por vírgulas.\n",
    "# importei o arquivo editado como dinos1 e ficará disponível na pasta de arquivos do projeto."
   ]
  },
  {
   "cell_type": "code",
   "execution_count": 4,
   "id": "68bd855f",
   "metadata": {},
   "outputs": [
    {
     "data": {
      "text/html": [
       "<div>\n",
       "<style scoped>\n",
       "    .dataframe tbody tr th:only-of-type {\n",
       "        vertical-align: middle;\n",
       "    }\n",
       "\n",
       "    .dataframe tbody tr th {\n",
       "        vertical-align: top;\n",
       "    }\n",
       "\n",
       "    .dataframe thead th {\n",
       "        text-align: right;\n",
       "    }\n",
       "</style>\n",
       "<table border=\"1\" class=\"dataframe\">\n",
       "  <thead>\n",
       "    <tr style=\"text-align: right;\">\n",
       "      <th></th>\n",
       "      <th>name</th>\n",
       "      <th>diet</th>\n",
       "      <th>period</th>\n",
       "      <th>lived_in</th>\n",
       "      <th>type</th>\n",
       "      <th>length</th>\n",
       "      <th>taxonomy</th>\n",
       "      <th>named_by</th>\n",
       "      <th>species</th>\n",
       "      <th>link;</th>\n",
       "    </tr>\n",
       "  </thead>\n",
       "  <tbody>\n",
       "    <tr>\n",
       "      <th>0</th>\n",
       "      <td>aardonyx</td>\n",
       "      <td>herbivorous</td>\n",
       "      <td>Early Jurassic 199-189 million years ago</td>\n",
       "      <td>South Africa</td>\n",
       "      <td>sauropod</td>\n",
       "      <td>8.0m</td>\n",
       "      <td>Dinosauria Saurischia Sauropodomorpha Prosauro...</td>\n",
       "      <td>Yates Bonnan Neveling Chinsamy and Blackbeard ...</td>\n",
       "      <td>celestae</td>\n",
       "      <td>https://www.nhm.ac.uk/discover/dino-directory/...</td>\n",
       "    </tr>\n",
       "    <tr>\n",
       "      <th>1</th>\n",
       "      <td>abelisaurus</td>\n",
       "      <td>carnivorous</td>\n",
       "      <td>Late Cretaceous 74-70 million years ago</td>\n",
       "      <td>Argentina</td>\n",
       "      <td>large theropod</td>\n",
       "      <td>9.0m</td>\n",
       "      <td>Dinosauria Saurischia Theropoda Neotheropoda C...</td>\n",
       "      <td>Bonaparte and Novas (1985)</td>\n",
       "      <td>comahuensis</td>\n",
       "      <td>https://www.nhm.ac.uk/discover/dino-directory/...</td>\n",
       "    </tr>\n",
       "    <tr>\n",
       "      <th>2</th>\n",
       "      <td>achelousaurus</td>\n",
       "      <td>herbivorous</td>\n",
       "      <td>Late Cretaceous 83-70 million years ago</td>\n",
       "      <td>USA</td>\n",
       "      <td>ceratopsian</td>\n",
       "      <td>6.0m</td>\n",
       "      <td>Dinosauria Ornithischia Genasauria Cerapoda Ma...</td>\n",
       "      <td>Sampson  (1995)</td>\n",
       "      <td>horneri</td>\n",
       "      <td>https://www.nhm.ac.uk/discover/dino-directory/...</td>\n",
       "    </tr>\n",
       "    <tr>\n",
       "      <th>3</th>\n",
       "      <td>achillobator</td>\n",
       "      <td>carnivorous</td>\n",
       "      <td>Late Cretaceous 99-84 million years ago</td>\n",
       "      <td>Mongolia</td>\n",
       "      <td>large theropod</td>\n",
       "      <td>5.0m</td>\n",
       "      <td>Dinosauria Saurischia Theropoda Neotheropoda T...</td>\n",
       "      <td>Perle Norell and Clark (1999)</td>\n",
       "      <td>giganteus</td>\n",
       "      <td>https://www.nhm.ac.uk/discover/dino-directory/...</td>\n",
       "    </tr>\n",
       "    <tr>\n",
       "      <th>4</th>\n",
       "      <td>acrocanthosaurus</td>\n",
       "      <td>carnivorous</td>\n",
       "      <td>Early Cretaceous 115-105 million years ago</td>\n",
       "      <td>USA</td>\n",
       "      <td>large theropod</td>\n",
       "      <td>12.0m</td>\n",
       "      <td>Dinosauria Saurischia Theropoda Neotheropoda T...</td>\n",
       "      <td>Stovall and Langston (1950)</td>\n",
       "      <td>atokensis</td>\n",
       "      <td>https://www.nhm.ac.uk/discover/dino-directory/...</td>\n",
       "    </tr>\n",
       "  </tbody>\n",
       "</table>\n",
       "</div>"
      ],
      "text/plain": [
       "               name         diet                                      period  \\\n",
       "0          aardonyx  herbivorous    Early Jurassic 199-189 million years ago   \n",
       "1       abelisaurus  carnivorous     Late Cretaceous 74-70 million years ago   \n",
       "2     achelousaurus  herbivorous     Late Cretaceous 83-70 million years ago   \n",
       "3      achillobator  carnivorous     Late Cretaceous 99-84 million years ago   \n",
       "4  acrocanthosaurus  carnivorous  Early Cretaceous 115-105 million years ago   \n",
       "\n",
       "       lived_in            type length  \\\n",
       "0  South Africa        sauropod   8.0m   \n",
       "1     Argentina  large theropod   9.0m   \n",
       "2           USA     ceratopsian   6.0m   \n",
       "3      Mongolia  large theropod   5.0m   \n",
       "4           USA  large theropod  12.0m   \n",
       "\n",
       "                                            taxonomy  \\\n",
       "0  Dinosauria Saurischia Sauropodomorpha Prosauro...   \n",
       "1  Dinosauria Saurischia Theropoda Neotheropoda C...   \n",
       "2  Dinosauria Ornithischia Genasauria Cerapoda Ma...   \n",
       "3  Dinosauria Saurischia Theropoda Neotheropoda T...   \n",
       "4  Dinosauria Saurischia Theropoda Neotheropoda T...   \n",
       "\n",
       "                                            named_by      species  \\\n",
       "0  Yates Bonnan Neveling Chinsamy and Blackbeard ...     celestae   \n",
       "1                         Bonaparte and Novas (1985)  comahuensis   \n",
       "2                                    Sampson  (1995)      horneri   \n",
       "3                      Perle Norell and Clark (1999)    giganteus   \n",
       "4                        Stovall and Langston (1950)    atokensis   \n",
       "\n",
       "                                               link;  \n",
       "0  https://www.nhm.ac.uk/discover/dino-directory/...  \n",
       "1  https://www.nhm.ac.uk/discover/dino-directory/...  \n",
       "2  https://www.nhm.ac.uk/discover/dino-directory/...  \n",
       "3  https://www.nhm.ac.uk/discover/dino-directory/...  \n",
       "4  https://www.nhm.ac.uk/discover/dino-directory/...  "
      ]
     },
     "execution_count": 4,
     "metadata": {},
     "output_type": "execute_result"
    }
   ],
   "source": [
    "# Leitura dos dados\n",
    "dados = pd.read_csv('data/dinos1.csv', sep = ',')\n",
    "dados.head()"
   ]
  },
  {
   "cell_type": "code",
   "execution_count": 5,
   "id": "626343e8",
   "metadata": {
    "scrolled": true
   },
   "outputs": [
    {
     "data": {
      "text/html": [
       "<div>\n",
       "<style scoped>\n",
       "    .dataframe tbody tr th:only-of-type {\n",
       "        vertical-align: middle;\n",
       "    }\n",
       "\n",
       "    .dataframe tbody tr th {\n",
       "        vertical-align: top;\n",
       "    }\n",
       "\n",
       "    .dataframe thead th {\n",
       "        text-align: right;\n",
       "    }\n",
       "</style>\n",
       "<table border=\"1\" class=\"dataframe\">\n",
       "  <thead>\n",
       "    <tr style=\"text-align: right;\">\n",
       "      <th></th>\n",
       "      <th>name</th>\n",
       "      <th>diet</th>\n",
       "      <th>period</th>\n",
       "      <th>lived_in</th>\n",
       "      <th>type</th>\n",
       "      <th>length</th>\n",
       "      <th>taxonomy</th>\n",
       "      <th>named_by</th>\n",
       "      <th>species</th>\n",
       "      <th>link;</th>\n",
       "    </tr>\n",
       "  </thead>\n",
       "  <tbody>\n",
       "    <tr>\n",
       "      <th>0</th>\n",
       "      <td>aardonyx</td>\n",
       "      <td>herbivorous</td>\n",
       "      <td>Early Jurassic 199-189 million years ago</td>\n",
       "      <td>South Africa</td>\n",
       "      <td>sauropod</td>\n",
       "      <td>8.0m</td>\n",
       "      <td>Dinosauria Saurischia Sauropodomorpha Prosauro...</td>\n",
       "      <td>Yates Bonnan Neveling Chinsamy and Blackbeard ...</td>\n",
       "      <td>celestae</td>\n",
       "      <td>https://www.nhm.ac.uk/discover/dino-directory/...</td>\n",
       "    </tr>\n",
       "    <tr>\n",
       "      <th>1</th>\n",
       "      <td>abelisaurus</td>\n",
       "      <td>carnivorous</td>\n",
       "      <td>Late Cretaceous 74-70 million years ago</td>\n",
       "      <td>Argentina</td>\n",
       "      <td>large theropod</td>\n",
       "      <td>9.0m</td>\n",
       "      <td>Dinosauria Saurischia Theropoda Neotheropoda C...</td>\n",
       "      <td>Bonaparte and Novas (1985)</td>\n",
       "      <td>comahuensis</td>\n",
       "      <td>https://www.nhm.ac.uk/discover/dino-directory/...</td>\n",
       "    </tr>\n",
       "    <tr>\n",
       "      <th>2</th>\n",
       "      <td>achelousaurus</td>\n",
       "      <td>herbivorous</td>\n",
       "      <td>Late Cretaceous 83-70 million years ago</td>\n",
       "      <td>USA</td>\n",
       "      <td>ceratopsian</td>\n",
       "      <td>6.0m</td>\n",
       "      <td>Dinosauria Ornithischia Genasauria Cerapoda Ma...</td>\n",
       "      <td>Sampson  (1995)</td>\n",
       "      <td>horneri</td>\n",
       "      <td>https://www.nhm.ac.uk/discover/dino-directory/...</td>\n",
       "    </tr>\n",
       "    <tr>\n",
       "      <th>3</th>\n",
       "      <td>achillobator</td>\n",
       "      <td>carnivorous</td>\n",
       "      <td>Late Cretaceous 99-84 million years ago</td>\n",
       "      <td>Mongolia</td>\n",
       "      <td>large theropod</td>\n",
       "      <td>5.0m</td>\n",
       "      <td>Dinosauria Saurischia Theropoda Neotheropoda T...</td>\n",
       "      <td>Perle Norell and Clark (1999)</td>\n",
       "      <td>giganteus</td>\n",
       "      <td>https://www.nhm.ac.uk/discover/dino-directory/...</td>\n",
       "    </tr>\n",
       "    <tr>\n",
       "      <th>4</th>\n",
       "      <td>acrocanthosaurus</td>\n",
       "      <td>carnivorous</td>\n",
       "      <td>Early Cretaceous 115-105 million years ago</td>\n",
       "      <td>USA</td>\n",
       "      <td>large theropod</td>\n",
       "      <td>12.0m</td>\n",
       "      <td>Dinosauria Saurischia Theropoda Neotheropoda T...</td>\n",
       "      <td>Stovall and Langston (1950)</td>\n",
       "      <td>atokensis</td>\n",
       "      <td>https://www.nhm.ac.uk/discover/dino-directory/...</td>\n",
       "    </tr>\n",
       "    <tr>\n",
       "      <th>...</th>\n",
       "      <td>...</td>\n",
       "      <td>...</td>\n",
       "      <td>...</td>\n",
       "      <td>...</td>\n",
       "      <td>...</td>\n",
       "      <td>...</td>\n",
       "      <td>...</td>\n",
       "      <td>...</td>\n",
       "      <td>...</td>\n",
       "      <td>...</td>\n",
       "    </tr>\n",
       "    <tr>\n",
       "      <th>303</th>\n",
       "      <td>yinlong</td>\n",
       "      <td>herbivorous</td>\n",
       "      <td>Mid Jurassic 159-154 million years ago</td>\n",
       "      <td>China</td>\n",
       "      <td>ceratopsian</td>\n",
       "      <td>1.2m</td>\n",
       "      <td>Dinosauria Ornithischia Genasauria Cerapoda Ma...</td>\n",
       "      <td>Xu Forster Clark and Mo (2006)</td>\n",
       "      <td>downsi</td>\n",
       "      <td>https://www.nhm.ac.uk/discover/dino-directory/...</td>\n",
       "    </tr>\n",
       "    <tr>\n",
       "      <th>304</th>\n",
       "      <td>yuanmousaurus</td>\n",
       "      <td>herbivorous</td>\n",
       "      <td>Mid Jurassic 180-159 million years ago</td>\n",
       "      <td>China</td>\n",
       "      <td>sauropod</td>\n",
       "      <td>17.0m</td>\n",
       "      <td>Dinosauria Saurischia Sauropodomorpha Sauropod...</td>\n",
       "      <td>Lü Li Ji Wang Zhang and Dong (2006)</td>\n",
       "      <td>jiangyiensis</td>\n",
       "      <td>https://www.nhm.ac.uk/discover/dino-directory/...</td>\n",
       "    </tr>\n",
       "    <tr>\n",
       "      <th>305</th>\n",
       "      <td>yunnanosaurus</td>\n",
       "      <td>omnivorous</td>\n",
       "      <td>Early Jurassic 205-190 million years ago</td>\n",
       "      <td>China</td>\n",
       "      <td>sauropod</td>\n",
       "      <td>7.0m</td>\n",
       "      <td>Dinosauria Saurischia Sauropodomorpha Prosauro...</td>\n",
       "      <td>Young (1942)</td>\n",
       "      <td>huangi</td>\n",
       "      <td>https://www.nhm.ac.uk/discover/dino-directory/...</td>\n",
       "    </tr>\n",
       "    <tr>\n",
       "      <th>306</th>\n",
       "      <td>zalmoxes</td>\n",
       "      <td>herbivorous</td>\n",
       "      <td>Late Cretaceous 69 million years ago</td>\n",
       "      <td>Romania</td>\n",
       "      <td>euornithopod</td>\n",
       "      <td>3.0m</td>\n",
       "      <td>Dinosauria Ornithischia Genasauria Cerapoda Or...</td>\n",
       "      <td>Nopcsa (1902)</td>\n",
       "      <td>robustus</td>\n",
       "      <td>https://www.nhm.ac.uk/discover/dino-directory/...</td>\n",
       "    </tr>\n",
       "    <tr>\n",
       "      <th>307</th>\n",
       "      <td>zephyrosaurus</td>\n",
       "      <td>herbivorous</td>\n",
       "      <td>Early Cretaceous 120-110 million years ago</td>\n",
       "      <td>USA</td>\n",
       "      <td>euornithopod</td>\n",
       "      <td>1.8m</td>\n",
       "      <td>Dinosauria Ornithischia Genasauria Cerapoda Or...</td>\n",
       "      <td>Sues (1980)</td>\n",
       "      <td>schaffi</td>\n",
       "      <td>https://www.nhm.ac.uk/discover/dino-directory/...</td>\n",
       "    </tr>\n",
       "  </tbody>\n",
       "</table>\n",
       "<p>285 rows × 10 columns</p>\n",
       "</div>"
      ],
      "text/plain": [
       "                 name         diet  \\\n",
       "0            aardonyx  herbivorous   \n",
       "1         abelisaurus  carnivorous   \n",
       "2       achelousaurus  herbivorous   \n",
       "3        achillobator  carnivorous   \n",
       "4    acrocanthosaurus  carnivorous   \n",
       "..                ...          ...   \n",
       "303           yinlong  herbivorous   \n",
       "304     yuanmousaurus  herbivorous   \n",
       "305     yunnanosaurus   omnivorous   \n",
       "306          zalmoxes  herbivorous   \n",
       "307     zephyrosaurus  herbivorous   \n",
       "\n",
       "                                         period      lived_in            type  \\\n",
       "0      Early Jurassic 199-189 million years ago  South Africa        sauropod   \n",
       "1       Late Cretaceous 74-70 million years ago     Argentina  large theropod   \n",
       "2       Late Cretaceous 83-70 million years ago           USA     ceratopsian   \n",
       "3       Late Cretaceous 99-84 million years ago      Mongolia  large theropod   \n",
       "4    Early Cretaceous 115-105 million years ago           USA  large theropod   \n",
       "..                                          ...           ...             ...   \n",
       "303      Mid Jurassic 159-154 million years ago         China     ceratopsian   \n",
       "304      Mid Jurassic 180-159 million years ago         China        sauropod   \n",
       "305    Early Jurassic 205-190 million years ago         China        sauropod   \n",
       "306        Late Cretaceous 69 million years ago       Romania    euornithopod   \n",
       "307  Early Cretaceous 120-110 million years ago           USA    euornithopod   \n",
       "\n",
       "    length                                           taxonomy  \\\n",
       "0     8.0m  Dinosauria Saurischia Sauropodomorpha Prosauro...   \n",
       "1     9.0m  Dinosauria Saurischia Theropoda Neotheropoda C...   \n",
       "2     6.0m  Dinosauria Ornithischia Genasauria Cerapoda Ma...   \n",
       "3     5.0m  Dinosauria Saurischia Theropoda Neotheropoda T...   \n",
       "4    12.0m  Dinosauria Saurischia Theropoda Neotheropoda T...   \n",
       "..     ...                                                ...   \n",
       "303   1.2m  Dinosauria Ornithischia Genasauria Cerapoda Ma...   \n",
       "304  17.0m  Dinosauria Saurischia Sauropodomorpha Sauropod...   \n",
       "305   7.0m  Dinosauria Saurischia Sauropodomorpha Prosauro...   \n",
       "306   3.0m  Dinosauria Ornithischia Genasauria Cerapoda Or...   \n",
       "307   1.8m  Dinosauria Ornithischia Genasauria Cerapoda Or...   \n",
       "\n",
       "                                              named_by       species  \\\n",
       "0    Yates Bonnan Neveling Chinsamy and Blackbeard ...      celestae   \n",
       "1                           Bonaparte and Novas (1985)   comahuensis   \n",
       "2                                      Sampson  (1995)       horneri   \n",
       "3                        Perle Norell and Clark (1999)     giganteus   \n",
       "4                          Stovall and Langston (1950)     atokensis   \n",
       "..                                                 ...           ...   \n",
       "303                     Xu Forster Clark and Mo (2006)        downsi   \n",
       "304                Lü Li Ji Wang Zhang and Dong (2006)  jiangyiensis   \n",
       "305                                       Young (1942)        huangi   \n",
       "306                                      Nopcsa (1902)      robustus   \n",
       "307                                        Sues (1980)       schaffi   \n",
       "\n",
       "                                                 link;  \n",
       "0    https://www.nhm.ac.uk/discover/dino-directory/...  \n",
       "1    https://www.nhm.ac.uk/discover/dino-directory/...  \n",
       "2    https://www.nhm.ac.uk/discover/dino-directory/...  \n",
       "3    https://www.nhm.ac.uk/discover/dino-directory/...  \n",
       "4    https://www.nhm.ac.uk/discover/dino-directory/...  \n",
       "..                                                 ...  \n",
       "303  https://www.nhm.ac.uk/discover/dino-directory/...  \n",
       "304  https://www.nhm.ac.uk/discover/dino-directory/...  \n",
       "305  https://www.nhm.ac.uk/discover/dino-directory/...  \n",
       "306  https://www.nhm.ac.uk/discover/dino-directory/...  \n",
       "307  https://www.nhm.ac.uk/discover/dino-directory/...  \n",
       "\n",
       "[285 rows x 10 columns]"
      ]
     },
     "execution_count": 5,
     "metadata": {},
     "output_type": "execute_result"
    }
   ],
   "source": [
    "# eliminando informações N/A\n",
    "dados.dropna()"
   ]
  },
  {
   "cell_type": "code",
   "execution_count": 6,
   "id": "167d244d",
   "metadata": {},
   "outputs": [
    {
     "data": {
      "text/plain": [
       "(309, 10)"
      ]
     },
     "execution_count": 6,
     "metadata": {},
     "output_type": "execute_result"
    }
   ],
   "source": [
    "# Verificando o tamanho do dataset e demais informações\n",
    "dados.shape"
   ]
  },
  {
   "cell_type": "markdown",
   "id": "3c8472a7",
   "metadata": {},
   "source": [
    "O dataset possui 309 linhas e 10 colunas."
   ]
  },
  {
   "cell_type": "code",
   "execution_count": 7,
   "id": "fb49cf58",
   "metadata": {},
   "outputs": [
    {
     "data": {
      "text/plain": [
       "name        object\n",
       "diet        object\n",
       "period      object\n",
       "lived_in    object\n",
       "type        object\n",
       "length      object\n",
       "taxonomy    object\n",
       "named_by    object\n",
       "species     object\n",
       "link;       object\n",
       "dtype: object"
      ]
     },
     "execution_count": 7,
     "metadata": {},
     "output_type": "execute_result"
    }
   ],
   "source": [
    "dados.dtypes"
   ]
  },
  {
   "cell_type": "markdown",
   "id": "b4266cfb",
   "metadata": {},
   "source": [
    "##### A partir daqui passarei as colunas para Português do Brasil, visto que acho mais prático a quem está acompanhando o notebook não ter que acompanhar o sumário de variáveis ou ter domínio da língua inglesa. "
   ]
  },
  {
   "cell_type": "code",
   "execution_count": 8,
   "id": "0a7f7978",
   "metadata": {},
   "outputs": [
    {
     "data": {
      "text/html": [
       "<div>\n",
       "<style scoped>\n",
       "    .dataframe tbody tr th:only-of-type {\n",
       "        vertical-align: middle;\n",
       "    }\n",
       "\n",
       "    .dataframe tbody tr th {\n",
       "        vertical-align: top;\n",
       "    }\n",
       "\n",
       "    .dataframe thead th {\n",
       "        text-align: right;\n",
       "    }\n",
       "</style>\n",
       "<table border=\"1\" class=\"dataframe\">\n",
       "  <thead>\n",
       "    <tr style=\"text-align: right;\">\n",
       "      <th></th>\n",
       "      <th>Nome do Dinossauro</th>\n",
       "      <th>Dieta</th>\n",
       "      <th>Período</th>\n",
       "      <th>Região/País</th>\n",
       "      <th>Tipo</th>\n",
       "      <th>Comprimento</th>\n",
       "      <th>Taxonomia</th>\n",
       "      <th>Nomeado por</th>\n",
       "      <th>Espécie</th>\n",
       "      <th>link;</th>\n",
       "    </tr>\n",
       "  </thead>\n",
       "  <tbody>\n",
       "    <tr>\n",
       "      <th>0</th>\n",
       "      <td>aardonyx</td>\n",
       "      <td>herbivorous</td>\n",
       "      <td>Early Jurassic 199-189 million years ago</td>\n",
       "      <td>South Africa</td>\n",
       "      <td>sauropod</td>\n",
       "      <td>8.0m</td>\n",
       "      <td>Dinosauria Saurischia Sauropodomorpha Prosauro...</td>\n",
       "      <td>Yates Bonnan Neveling Chinsamy and Blackbeard ...</td>\n",
       "      <td>celestae</td>\n",
       "      <td>https://www.nhm.ac.uk/discover/dino-directory/...</td>\n",
       "    </tr>\n",
       "    <tr>\n",
       "      <th>1</th>\n",
       "      <td>abelisaurus</td>\n",
       "      <td>carnivorous</td>\n",
       "      <td>Late Cretaceous 74-70 million years ago</td>\n",
       "      <td>Argentina</td>\n",
       "      <td>large theropod</td>\n",
       "      <td>9.0m</td>\n",
       "      <td>Dinosauria Saurischia Theropoda Neotheropoda C...</td>\n",
       "      <td>Bonaparte and Novas (1985)</td>\n",
       "      <td>comahuensis</td>\n",
       "      <td>https://www.nhm.ac.uk/discover/dino-directory/...</td>\n",
       "    </tr>\n",
       "  </tbody>\n",
       "</table>\n",
       "</div>"
      ],
      "text/plain": [
       "  Nome do Dinossauro        Dieta                                   Período  \\\n",
       "0           aardonyx  herbivorous  Early Jurassic 199-189 million years ago   \n",
       "1        abelisaurus  carnivorous   Late Cretaceous 74-70 million years ago   \n",
       "\n",
       "    Região/País            Tipo Comprimento  \\\n",
       "0  South Africa        sauropod        8.0m   \n",
       "1     Argentina  large theropod        9.0m   \n",
       "\n",
       "                                           Taxonomia  \\\n",
       "0  Dinosauria Saurischia Sauropodomorpha Prosauro...   \n",
       "1  Dinosauria Saurischia Theropoda Neotheropoda C...   \n",
       "\n",
       "                                         Nomeado por      Espécie  \\\n",
       "0  Yates Bonnan Neveling Chinsamy and Blackbeard ...     celestae   \n",
       "1                         Bonaparte and Novas (1985)  comahuensis   \n",
       "\n",
       "                                               link;  \n",
       "0  https://www.nhm.ac.uk/discover/dino-directory/...  \n",
       "1  https://www.nhm.ac.uk/discover/dino-directory/...  "
      ]
     },
     "execution_count": 8,
     "metadata": {},
     "output_type": "execute_result"
    }
   ],
   "source": [
    "dados = dados.rename(columns = {'name': 'Nome do Dinossauro', \n",
    "                 'diet': 'Dieta', \n",
    "                 'period': 'Período',\n",
    "                 'lived_in': 'Região/País',\n",
    "                 'type': 'Tipo', \n",
    "                 'length': 'Comprimento', \n",
    "                 'taxonomy': 'Taxonomia', \n",
    "                 'named_by': 'Nomeado por',\n",
    "                 'species': 'Espécie'})\n",
    "# vamos ler somente os dois primeiros dinossauros somente para checar a alteração\n",
    "dados.head(2)"
   ]
  },
  {
   "cell_type": "code",
   "execution_count": 9,
   "id": "257de8fc",
   "metadata": {},
   "outputs": [
    {
     "data": {
      "text/plain": [
       "array(['herbivorous', 'carnivorous', 'omnivorous', 'unknown',\n",
       "       'herbivorous/omnivorous'], dtype=object)"
      ]
     },
     "execution_count": 9,
     "metadata": {},
     "output_type": "execute_result"
    }
   ],
   "source": [
    "# checando as colunas que possuem dados em inglês e utilizaremos nas análises\n",
    "dados['Dieta'].unique()"
   ]
  },
  {
   "cell_type": "code",
   "execution_count": 10,
   "id": "16338020",
   "metadata": {},
   "outputs": [
    {
     "data": {
      "text/plain": [
       "array(['Early Jurassic 199-189 million years ago',\n",
       "       'Late Cretaceous 74-70 million years ago',\n",
       "       'Late Cretaceous 83-70 million years ago',\n",
       "       'Late Cretaceous 99-84 million years ago',\n",
       "       'Early Cretaceous 115-105 million years ago',\n",
       "       'Late Cretaceous 98-93 million years ago',\n",
       "       'Early Cretaceous 132-121 million years ago',\n",
       "       'Late Jurassic 169-159 million years ago',\n",
       "       'Late Cretaceous 70-65 million years ago',\n",
       "       'Late Cretaceous 80-75 million years ago',\n",
       "       'Late Cretaceous 76-74 million years ago',\n",
       "       'Late Cretaceous 90-70 million years ago',\n",
       "       'Late Cretaceous 71-65 million years ago',\n",
       "       'Late Jurassic 156-144 million years ago',\n",
       "       'Late Cretaceous 89-85 million years ago',\n",
       "       'Early Cretaceous 132-127 million years ago',\n",
       "       'Early Jurassic 195-180 million years ago',\n",
       "       'Mid Jurassic 177-169 million years ago',\n",
       "       'Early Jurassic 190 million years ago',\n",
       "       'Late Cretaceous 74-67 million years ago',\n",
       "       'Late Cretaceous 84-65 million years ago',\n",
       "       'Late Jurassic 154-145 million years ago',\n",
       "       'Late Cretaceous 94-84 million years ago',\n",
       "       'Early Cretaceous 121-99 million years ago',\n",
       "       'Late Jurassic 147 million years ago',\n",
       "       'Late Cretaceous 95-70 million years ago',\n",
       "       'Late Cretaceous 90 million years ago',\n",
       "       'Late Cretaceous 72-67 million years ago',\n",
       "       'Early Cretaceous 121-97 million years ago',\n",
       "       'Late Cretaceous 84-71 million years ago',\n",
       "       'Early Cretaceous 112-99 million years ago',\n",
       "       'Late Cretaceous 85-80 million years ago',\n",
       "       'Early Jurassic 185-170 million years ago',\n",
       "       'Late Jurassic 155-145 million years ago',\n",
       "       'Early Cretaceous 125 million years ago',\n",
       "       'Early Cretaceous 142-132 million years ago',\n",
       "       'Early Cretaceous 127-121 million years ago',\n",
       "       'Mid Jurassic 180-159 million years ago',\n",
       "       'Late Jurassic 155-140 million years ago',\n",
       "       'Late Cretaceous 89-88 million years ago',\n",
       "       'Mid Jurassic 150 million years ago',\n",
       "       'Late Cretaceous 99-90 million years ago',\n",
       "       'Late Jurassic 150-140 million years ago',\n",
       "       'Late Cretaceous 98-94 million years ago',\n",
       "       'Late Cretaceous 70 million years ago',\n",
       "       'Early Cretaceous 125-122 million years ago',\n",
       "       'Early Cretaceous 142-127 million years ago',\n",
       "       'Late Jurassic 153-148 million years ago',\n",
       "       'Mid Jurassic 175-160 million years ago',\n",
       "       'Mid Jurassic 170-160 million years ago',\n",
       "       'Late Jurassic 152-145 million years ago',\n",
       "       'Late Triassic 227-210 million years ago',\n",
       "       'Late Jurassic 159-142 million years ago',\n",
       "       'Late Jurassic 79-67 million years ago',\n",
       "       'Late Cretaceous 81-75 million years ago',\n",
       "       'Late Triassic 225-190 million years ago',\n",
       "       'Late Triassic 221-210 million years ago',\n",
       "       'Late Jurassic 145-140 million years ago',\n",
       "       'Late Cretaceous 81-76 million years ago',\n",
       "       'Early Jurassic 170 million years ago',\n",
       "       'Late Jurassic 154-150 million years ago',\n",
       "       'Mid Jurassic 170 million years ago',\n",
       "       'Late Cretaceous 70-66 million years ago',\n",
       "       'Early Cretaceous 120-110 million years ago',\n",
       "       'Late Cretaceous 99-94 million years ago',\n",
       "       'Late Jurassic 150-135 million years ago',\n",
       "       'Late Jurassic 169-164 million years ago',\n",
       "       'Late Cretaceous 76-65 million years ago',\n",
       "       'Late Cretaceous 74 million years ago',\n",
       "       'Late Jurassic 154-151 million years ago',\n",
       "       'Mid Jurassic 190-180 million years ago',\n",
       "       'Late Triassic 228 million years ago',\n",
       "       'Early Cretaceous 127-99 million years ago', 'Early Cretaceous',\n",
       "       'Late Cretaceous 99-89 million years ago',\n",
       "       'Late Jurassic 154-142 million years ago',\n",
       "       'Late Cretaceous 76-70 million years ago',\n",
       "       'Mid Jurassic 165 million years ago',\n",
       "       'Late Cretaceous 86-71 million years ago',\n",
       "       'Early Cretaceous 112-90 million years ago',\n",
       "       'Late Cretaceous 80-73 million years ago',\n",
       "       'Late Jurassic 159-154 million years ago',\n",
       "       'Late Cretaceous 78-74 million years ago', 'USA',\n",
       "       'Early Jurassic 205 million years ago',\n",
       "       'Late Cretaceous 72-68 million years ago',\n",
       "       'Early Cretaceous 150-135 million years ago',\n",
       "       'Early Cretaceous 140-110 million years ago',\n",
       "       'Early Jurassic 205-190 million years ago',\n",
       "       'Early Cretaceous 132-94 million years ago',\n",
       "       'Late Jurassic 155-150 million years ago',\n",
       "       'Early Jurassic 205-180 million years ago',\n",
       "       'Mid Jurassic 169-164 million years ago',\n",
       "       'Early Cretaceous 115-110 million years ago',\n",
       "       'Late Cretaceous 67-65 million years ago',\n",
       "       'Early Jurassic 213-200 million years ago',\n",
       "       'Late Triassic 205-202 million years ago',\n",
       "       'Early Jurassic 203-196 million years ago',\n",
       "       'Early Jurassic 200-195 million years ago',\n",
       "       'Early Cretaceous 121-112 million years ago',\n",
       "       'Late Triassic 205-195 million years ago',\n",
       "       'Early Jurassic 208-204 million years ago',\n",
       "       'Late Cretaceous 80 million years ago',\n",
       "       'Mid Jurassic 170-155 million years ago',\n",
       "       'Late Triassic 227-221 million years ago',\n",
       "       'Late Cretaceous 86-66 million years ago',\n",
       "       'Late Cretaceous 81-68 million years ago',\n",
       "       'Early Cretaceous 110-100 million years ago',\n",
       "       'Late Cretaceous 89-84 million years ago',\n",
       "       'Late Cretaceous 94-89 million years ago',\n",
       "       'Mid Jurassic 159-132 million years ago',\n",
       "       'Mid Jurassic 169-159 million years ago',\n",
       "       'Late Jurassic 150-144 million years ago',\n",
       "       'Late Cretaceous 74-65 million years ago',\n",
       "       'Early Cretaceous 115-100 million years ago',\n",
       "       'Late Cretaceous 85-75 million years ago',\n",
       "       'Late Cretaceous 79-75 million years ago', 'Early Jurassic',\n",
       "       'Mid Jurassic 164-159 million years ago',\n",
       "       'Late Jurassic 164-159 million years ago',\n",
       "       'Late Triassic 210 million years ago',\n",
       "       'Mid Jurassic 195-180 million years ago',\n",
       "       'Late Cretaceous 80-65 million years ago',\n",
       "       'Late Cretaceous 77-75 million years ago',\n",
       "       'Early Cretaceous 122-120 million years ago',\n",
       "       'Early Cretaceous 120-100 million years ago',\n",
       "       'Late Cretaceous 86-84 million years ago',\n",
       "       'Late Cretaceous 95 million years ago',\n",
       "       'Early Jurassic 202-195 million years ago',\n",
       "       'Early Cretaceous 121-94 million years ago',\n",
       "       'Early Jurassic 208-194 million years ago',\n",
       "       'Early Jurassic 205-202 million years ago',\n",
       "       'Late Cretaceous 97-88 million years ago',\n",
       "       'Early Cretaceous 126-142 million years ago',\n",
       "       'Late Cretaceous 75-81 million years ago',\n",
       "       'Mid Jurassic 169-142 million years ago',\n",
       "       'Late Cretaceous 89-65 million years ago',\n",
       "       'Late Cretaceous 83-75 million years ago',\n",
       "       'Early Cretaceous 154-142 million years ago',\n",
       "       'Late Cretaceous 75-68 million years ago',\n",
       "       'Late Triassic 227-205 million years ago',\n",
       "       'Late Cretaceous 85-70 million years ago',\n",
       "       'Late Cretaceous 76-67 million years ago',\n",
       "       'Late Jurassic 155-144 million years ago',\n",
       "       'Late Cretaceous 68-66 million years ago',\n",
       "       'Late Jurassic 157-154 million years ago',\n",
       "       'Late Cretaceous 75-72 million years ago',\n",
       "       'Late Cretaceous 94-86 million years ago',\n",
       "       'Early Cretaceous 112-100 million years ago',\n",
       "       'Early Cretaceous 142-121 million years ago',\n",
       "       'Late Jurassic 160-144 million years ago',\n",
       "       'Early Jurassic 195-190 million years ago',\n",
       "       'Mid Jurassic 159-154 million years ago',\n",
       "       'Late Cretaceous 69 million years ago'], dtype=object)"
      ]
     },
     "execution_count": 10,
     "metadata": {},
     "output_type": "execute_result"
    }
   ],
   "source": [
    "dados['Período'].unique()"
   ]
  },
  {
   "cell_type": "code",
   "execution_count": 11,
   "id": "96f36e87",
   "metadata": {},
   "outputs": [
    {
     "data": {
      "text/plain": [
       "array(['South Africa', 'Argentina', 'USA', 'Mongolia', 'Egypt', 'Niger',\n",
       "       'China', 'Canada', 'France', 'Uruguay', 'Spain', 'Kazakhstan',\n",
       "       'Germany', 'Uzbekistan', 'Australia', 'India', 'United Kingdom',\n",
       "       'North Africa', 'Zimbabwe', 'Antarctica', 'Morocco', 'Tanzania',\n",
       "       'Japan', 'Brazil', nan, 'Madagascar', 'Lesotho', 'Romania',\n",
       "       'Malawi', 'Tunisia', 'Russia', 'Wales', 'Switzerland'],\n",
       "      dtype=object)"
      ]
     },
     "execution_count": 11,
     "metadata": {},
     "output_type": "execute_result"
    }
   ],
   "source": [
    "dados['Região/País'].unique()"
   ]
  },
  {
   "cell_type": "code",
   "execution_count": 12,
   "id": "4bf6b470",
   "metadata": {},
   "outputs": [
    {
     "data": {
      "text/plain": [
       "array(['sauropod', 'large theropod', 'ceratopsian', 'euornithopod',\n",
       "       'small theropod', 'armoured dinosaur', '1.0m'], dtype=object)"
      ]
     },
     "execution_count": 12,
     "metadata": {},
     "output_type": "execute_result"
    }
   ],
   "source": [
    "dados['Tipo'].unique()"
   ]
  },
  {
   "cell_type": "code",
   "execution_count": 13,
   "id": "710a7a49",
   "metadata": {},
   "outputs": [],
   "source": [
    "# partindo para as traduções, tentei de outras formas para Período\n",
    "# fiquei com um impasse em relação aos anos, pois o meu intuito era somente encurtar os nomes \n",
    "# sei que poderia ter utilizado um API de tradução, mas não era meu intuito nesse projeto\n",
    "# queria fazer \"na mão\" todas as alterações necessárias\n",
    "# entretanto, foi razoávelmente rápido seguir a mesma maneira para todas as traduções\n",
    "\n",
    "def rename_dieta(dados):\n",
    "    if dados['Dieta'] == 'herbivorous':\n",
    "        return 'herbívoro'\n",
    "    if dados['Dieta'] == 'carnivorous':\n",
    "        return 'carnívoro'\n",
    "    if dados['Dieta'] == 'omnivorous':\n",
    "        return 'onívoro'\n",
    "    if dados['Dieta'] == 'unknown':\n",
    "        return 'desconhecido'\n",
    "    if dados['Dieta'] == 'herbivorous/omnivorous':\n",
    "        return 'herbívoro/onívoro'\n",
    "    \n",
    "def rename_periodo(dados):\n",
    "    if dados['Período'] == 'Early Jurassic 199-189 million years ago':\n",
    "        return 'Começo do Jurássico'\n",
    "    if dados['Período'] == 'Late Cretaceous 74-70 million years ago':\n",
    "        return 'Fim do Cretáceo'\n",
    "    if dados['Período'] == 'Late Cretaceous 83-70 million years ago':\n",
    "        return 'Fim do Cretáceo'\n",
    "    if dados['Período'] == 'Late Cretaceous 99-84 million years ago':\n",
    "        return 'Fim do Cretáceo'\n",
    "    if dados['Período'] == 'Early Cretaceous 115-105 million years ago':\n",
    "        return 'Começo do Cretáceo'\n",
    "    if dados['Período'] == 'Late Cretaceous 98-93 million years ago':\n",
    "        return 'Fim do Cretáceo'\n",
    "    if dados['Período'] == 'Early Cretaceous 132-121 million years ago':\n",
    "        return 'Começo do Cretáceo'\n",
    "    if dados['Período'] == 'Late Jurassic 169-159 million years ago':\n",
    "        return 'Fim do Jurássico'\n",
    "    if dados['Período'] == 'Late Cretaceous 70-65 million years ago':\n",
    "        return 'Fim do Cretáceo'\n",
    "    if dados['Período'] == 'Late Cretaceous 80-75 million years ago':\n",
    "        return 'Fim do Cretáceo'\n",
    "    if dados['Período'] == 'Late Cretaceous 76-74 million years ago':\n",
    "        return 'Fim do Cretáceo'\n",
    "    if dados['Período'] == 'Late Cretaceous 90-70 million years ago':\n",
    "        return 'Fim do Cretáceo'\n",
    "    if dados['Período'] == 'Late Cretaceous 71-65 million years ago':\n",
    "        return 'Fim do Cretáceo'\n",
    "    if dados['Período'] == 'Late Jurassic 156-144 million years ago':\n",
    "        return 'Fim do Jurássico'\n",
    "    if dados['Período'] == 'Late Cretaceous 89-85 million years ago':\n",
    "        return 'Fim do Cretáceo'\n",
    "    if dados['Período'] == 'Early Cretaceous 132-127 million years ago':\n",
    "        return 'Começo do Cretáceo'\n",
    "    if dados['Período'] == 'Early Jurassic 195-180 million years ago':\n",
    "        return 'Começo do Jurássico'\n",
    "    if dados['Período'] == 'Mid Jurassic 177-169 million years ago':\n",
    "        return 'Meio do Jurássico'\n",
    "    if dados['Período'] == 'Early Jurassic 190 million years ago':\n",
    "        return 'Começo do Jurássico'\n",
    "    if dados['Período'] == 'Late Cretaceous 74-67 million years ago':\n",
    "        return 'Fim do Cretáceo'\n",
    "    if dados['Período'] == 'Late Cretaceous 84-65 million years ago':\n",
    "        return 'Fim do Cretáceo'\n",
    "    if dados['Período'] == 'Late Jurassic 154-145 million years ago':\n",
    "        return 'Fim do Jurássico'\n",
    "    if dados['Período'] == 'Late Cretaceous 94-84 million years ago':\n",
    "        return 'Fim do Cretáceo'\n",
    "    if dados['Período'] == 'Early Cretaceous 121-99 million years ago':\n",
    "        return 'Começo do Jurássico'\n",
    "    if dados['Período'] == 'Late Jurassic 147 million years ago':\n",
    "        return 'Fim do Jurássico'\n",
    "    if dados['Período'] == 'Late Cretaceous 95-70 million years ago':\n",
    "        return 'Fim do Cretáceo'\n",
    "    if dados['Período'] == 'Late Cretaceous 90 million years ago':\n",
    "        return 'Fim do Cretáceo'\n",
    "    if dados['Período'] == 'Late Cretaceous 72-67 million years ago':\n",
    "        return 'Fim do Cretáceo'\n",
    "    if dados['Período'] == 'Early Cretaceous 121-97 million years ago':\n",
    "        return 'Começo do Cretáceo'\n",
    "    if dados['Período'] == 'Late Cretaceous 84-71 million years ago':\n",
    "        return 'Fim do Cretáceo'\n",
    "    if dados['Período'] == 'Early Cretaceous 112-99 million years ago':\n",
    "        return 'Começo do Cretáceo'\n",
    "    if dados['Período'] == 'Late Cretaceous 85-80 million years ago':\n",
    "        return 'Fim do Cretáceo'\n",
    "    if dados['Período'] == 'Early Jurassic 185-170 million years ago':\n",
    "        return 'Começo do Jurássico'\n",
    "    if dados['Período'] == 'Late Jurassic 155-145 million years ago':\n",
    "        return 'Fim do Jurássico'\n",
    "    if dados['Período'] == 'Early Cretaceous 125 million years ago':\n",
    "        return 'Começo do Cretáceo'\n",
    "    if dados['Período'] == 'Early Cretaceous 142-132 million years ago':\n",
    "        return 'Começo do Cretáceo'\n",
    "    if dados['Período'] == 'Early Cretaceous 127-121 million years ago':\n",
    "        return 'Começo do Cretáceo'\n",
    "    if dados['Período'] == 'Mid Jurassic 180-159 million years ago':\n",
    "        return 'Meio do Jurássico'\n",
    "    if dados['Período'] == 'Late Jurassic 155-140 million years ago':\n",
    "        return 'Fim do Jurássico'\n",
    "    if dados['Período'] == 'Late Cretaceous 89-88 million years ago':\n",
    "        return 'Fim do Cretáceo'\n",
    "    if dados['Período'] == 'Mid Jurassic 150 million years ago':\n",
    "        return 'Meio do Jurássico'\n",
    "    if dados['Período'] == 'Late Cretaceous 99-90 million years ago':\n",
    "        return 'Fim do Cretáceo'\n",
    "    if dados['Período'] == 'Late Jurassic 150-140 million years ago':\n",
    "        return 'Fim do Jurássico'\n",
    "    if dados['Período'] == 'Late Cretaceous 98-94 million years ago':\n",
    "        return 'Fim do Cretáceo'\n",
    "    if dados['Período'] == 'Late Cretaceous 70 million years ago':\n",
    "        return 'Fim do Cretáceo'\n",
    "    if dados['Período'] == 'Early Cretaceous 125-122 million years ago':\n",
    "        return 'Começo do Cretáceo'\n",
    "    if dados['Período'] == 'Early Cretaceous 142-127 million years ago':\n",
    "        return 'Começo do Cretáceo'\n",
    "    if dados['Período'] == 'Late Jurassic 153-148 million years ago':\n",
    "        return 'Fim do Jurássico'\n",
    "    if dados['Período'] == 'Mid Jurassic 175-160 million years ago':\n",
    "        return 'Meio do Jurássico'\n",
    "    if dados['Período'] == 'Mid Jurassic 170-160 million years ago':\n",
    "        return 'Meio do Jurássico'\n",
    "    if dados['Período'] == 'Late Jurassic 152-145 million years ago':\n",
    "        return 'Fim do Jurássico'\n",
    "    if dados['Período'] == 'Late Triassic 227-210 million years ago':\n",
    "        return 'Fim do Triássico'\n",
    "    if dados['Período'] == 'Late Jurassic 159-142 million years ago':\n",
    "        return 'Fim do Jurássico'\n",
    "    if dados['Período'] == 'Late Jurassic 79-67 million years ago':\n",
    "        return 'Fim do Jurássico'\n",
    "    if dados['Período'] == 'Late Cretaceous 81-75 million years ago':\n",
    "        return 'Fim do Cretáceo'\n",
    "    if dados['Período'] == 'Late Triassic 225-190 million years ago':\n",
    "        return 'Fim do Triássico'\n",
    "    if dados['Período'] == 'Late Triassic 221-210 million years ago':\n",
    "        return 'Fim do Triássico'\n",
    "    if dados['Período'] == 'Late Jurassic 145-140 million years ago':\n",
    "        return 'Fim do Jurássico'\n",
    "    if dados['Período'] == 'Late Cretaceous 81-76 million years ago':\n",
    "        return 'Fim do Cretáceo'\n",
    "    if dados['Período'] == 'Early Jurassic 170 million years ago':\n",
    "        return 'Começo do Jurássico'\n",
    "    if dados['Período'] == 'Late Jurassic 154-150 million years ago':\n",
    "        return 'Fim do Jurássico'\n",
    "    if dados['Período'] == 'Mid Jurassic 170 million years ago':\n",
    "        return 'Meio do Jurássico'\n",
    "    if dados['Período'] == 'Late Cretaceous 70-66 million years ago':\n",
    "        return 'Fim do Cretáceo'\n",
    "    if dados['Período'] == 'Early Cretaceous 120-110 million years ago':\n",
    "        return 'Começo do Cretáceo'\n",
    "    if dados['Período'] == 'Late Cretaceous 99-94 million years ago':\n",
    "        return 'Fim do Cretáceo'\n",
    "    if dados['Período'] == 'Late Jurassic 150-135 million years ago':\n",
    "        return 'Fim do Jurássico'\n",
    "    if dados['Período'] == 'Late Jurassic 169-164 million years ago':\n",
    "        return 'Fim do Jurássico'\n",
    "    if dados['Período'] == 'Late Cretaceous 76-65 million years ago':\n",
    "        return 'Fim do Cretáceo'\n",
    "    if dados['Período'] == 'Late Cretaceous 74 million years ago':\n",
    "        return 'Fim do Cretáceo'\n",
    "    if dados['Período'] == 'Late Jurassic 154-151 million years ago':\n",
    "        return 'Fim do Jurássico'\n",
    "    if dados['Período'] == 'Mid Jurassic 190-180 million years ago':\n",
    "        return 'Meio do Jurássico'\n",
    "    if dados['Período'] == 'Late Triassic 228 million years ago':\n",
    "        return 'Fim do Triássico'\n",
    "    if dados['Período'] == 'Early Cretaceous 127-99 million years ago':\n",
    "        return 'Começo do Cretáceo'\n",
    "    if dados['Período'] == 'Early Cretaceous':\n",
    "        return 'Começo do Cretáceo'\n",
    "    if dados['Período'] == 'Late Cretaceous 99-89 million years ago':\n",
    "        return 'Fim do Cretáceo'\n",
    "    if dados['Período'] == 'Late Jurassic 154-142 million years ago':\n",
    "        return 'Fim do Jurássico'\n",
    "    if dados['Período'] == 'Late Cretaceous 76-70 million years ago':\n",
    "        return 'Fim do Cretáceo'\n",
    "    if dados['Período'] == 'Mid Jurassic 165 million years ago':\n",
    "        return 'Meio do Jurássico'\n",
    "    if dados['Período'] == 'Late Cretaceous 86-71 million years ago':\n",
    "        return 'Fim do Cretáceo'\n",
    "    if dados['Período'] == 'Early Cretaceous 112-90 million years ago':\n",
    "        return 'Começo do Cretáceo'\n",
    "    if dados['Período'] == 'Late Cretaceous 80-73 million years ago':\n",
    "        return 'Fim do Cretáceo'\n",
    "    if dados['Período'] == 'Late Jurassic 159-154 million years ago':\n",
    "        return 'Fim do Jurássico'\n",
    "    if dados['Período'] == 'Late Cretaceous 78-74 million years ago':\n",
    "        return 'Fim do Cretáceo'\n",
    "    if dados['Período'] == 'Early Jurassic 205 million years ago':\n",
    "        return 'Começo do Jurássico'\n",
    "    if dados['Período'] == 'Late Cretaceous 72-68 million years ago':\n",
    "        return 'Fim do Cretáceo'\n",
    "    if dados['Período'] == 'Early Cretaceous 150-135 million years ago':\n",
    "        return 'Começo do Cretáceo'\n",
    "    if dados['Período'] == 'Early Cretaceous 140-110 million years ago':\n",
    "        return 'Começo do Cretáceo'\n",
    "    if dados['Período'] == 'Early Jurassic 205-190 million years ago':\n",
    "        return 'Começo do Jurássico'\n",
    "    if dados['Período'] == 'Early Cretaceous 132-94 million years ago':\n",
    "        return 'Começo do Cretáceo'\n",
    "    if dados['Período'] == 'Late Jurassic 169-164 million years ago':\n",
    "        return 'Fim do Jurássico'\n",
    "    if dados['Período'] == 'Late Jurassic 155-150 million years ago':\n",
    "        return 'Fim do Jurássico'\n",
    "    if dados['Período'] == 'Early Jurassic 205-180 million years ago':\n",
    "        return 'Começo do Jurássico'\n",
    "    if dados['Período'] == 'Mid Jurassic 169-164 million years ago':\n",
    "        return 'Meio do Jurássico'\n",
    "    if dados['Período'] == 'Early Cretaceous 115-110 million years ago':\n",
    "        return 'Começo do Cretáceo'\n",
    "    if dados['Período'] == 'Late Cretaceous 67-65 million years ago':\n",
    "        return 'Fim do Cretáceo'\n",
    "    if dados['Período'] == 'Early Jurassic 213-200 million years ago':\n",
    "        return 'Começo do Jurássico'\n",
    "    if dados['Período'] == 'Late Triassic 205-202 million years ago':\n",
    "        return 'Fim do Triássico'\n",
    "    if dados['Período'] == 'Early Jurassic 203-196 million years ago':\n",
    "        return 'Começo do Jurássico'\n",
    "    if dados['Período'] == 'Early Jurassic 200-195 million years ago':\n",
    "        return 'Começo do Jurássico'\n",
    "    if dados['Período'] == 'Early Cretaceous 121-112 million years ago':\n",
    "        return 'Começo do Cretáceo'\n",
    "    if dados['Período'] == 'Late Triassic 205-195 million years ago':\n",
    "        return 'Fim do Triássico'\n",
    "    if dados['Período'] == 'Early Jurassic 208-204 million years ago':\n",
    "        return 'Começo do Jurássico'\n",
    "    if dados['Período'] == 'Late Cretaceous 80 million years ago':\n",
    "        return 'Fim do Cretáceo'\n",
    "    if dados['Período'] == 'Mid Jurassic 170-155 million years ago':\n",
    "        return 'Meio do Jurássico'\n",
    "    if dados['Período'] == 'Late Triassic 227-221 million years ago':\n",
    "        return 'Fim do Triássico'\n",
    "    if dados['Período'] == 'Late Cretaceous 86-66 million years ago':\n",
    "        return 'Fim do Cretáceo'\n",
    "    if dados['Período'] == 'Late Cretaceous 81-68 million years ago':\n",
    "        return 'Fim do Cretáceo'\n",
    "    if dados['Período'] == 'Early Cretaceous 110-100 million years ago':\n",
    "        return 'Começo do Cretáceo'\n",
    "    if dados['Período'] == 'Late Cretaceous 89-84 million years ago':\n",
    "        return 'Fim do Cretáceo'\n",
    "    if dados['Período'] == 'Late Cretaceous 94-89 million years ago':\n",
    "        return 'Fim do Cretáceo'\n",
    "    if dados['Período'] == 'Mid Jurassic 159-132 million years ago':\n",
    "        return 'Meio do Jurássico'\n",
    "    if dados['Período'] == 'Mid Jurassic 169-159 million years ago':\n",
    "        return 'Meio do Jurássico'\n",
    "    if dados['Período'] == 'Late Jurassic 150-144 million years ago':\n",
    "        return 'Fim do Jurássico'\n",
    "    if dados['Período'] == 'Late Cretaceous 74-65 million years ago':\n",
    "        return 'Fim do Cretáceo'\n",
    "    if dados['Período'] == 'Early Cretaceous 115-100 million years ago':\n",
    "        return 'Começo do Cretáceo'\n",
    "    if dados['Período'] == 'Late Cretaceous 85-75 million years ago':\n",
    "        return 'Fim do Cretáceo'\n",
    "    if dados['Período'] == 'Late Cretaceous 79-75 million years ago':\n",
    "        return 'Fim do Cretáceo'\n",
    "    if dados['Período'] == 'Early Jurassic':\n",
    "        return 'Começo do Jurássico'\n",
    "    if dados['Período'] == 'Mid Jurassic 164-159 million years ago':\n",
    "        return 'Meio do Jurássico'\n",
    "    if dados['Período'] == 'Late Jurassic 164-159 million years ago':\n",
    "        return 'Fim do Jurássico'\n",
    "    if dados['Período'] == 'Late Triassic 210 million years ago':\n",
    "        return 'Fim do Triássico'\n",
    "    if dados['Período'] == 'Mid Jurassic 195-180 million years ago':\n",
    "        return 'Meio do Jurássico'\n",
    "    if dados['Período'] == 'Late Cretaceous 80-65 million years ago':\n",
    "        return 'Fim do Cretáceo'\n",
    "    if dados['Período'] == 'Late Cretaceous 77-75 million years ago':\n",
    "        return 'Fim do Cretáceo'\n",
    "    if dados['Período'] == 'Early Cretaceous 122-120 million years ago':\n",
    "        return 'Começo do Cretáceo'\n",
    "    if dados['Período'] == 'Early Cretaceous 120-100 million years ago':\n",
    "        return 'Começo do Cretáceo'\n",
    "    if dados['Período'] == 'Late Cretaceous 86-84 million years ago':\n",
    "        return 'Fim do Cretáceo'\n",
    "    if dados['Período'] == 'Late Cretaceous 95 million years ago':\n",
    "        return 'Fim do Cretáceo'\n",
    "    if dados['Período'] == 'Early Jurassic 202-195 million years ago':\n",
    "        return 'Começo do Jurássico'\n",
    "    if dados['Período'] == 'Early Cretaceous 121-94 million years ago':\n",
    "        return 'Começo do Cretáceo'\n",
    "    if dados['Período'] == 'Early Jurassic 208-194 million years ago':\n",
    "        return 'Começo do Jurássico'\n",
    "    if dados['Período'] == 'Early Jurassic 205-202 million years ago':\n",
    "        return 'Começo do Jurássico'\n",
    "    if dados['Período'] == 'Late Cretaceous 97-88 million years ago':\n",
    "        return 'Fim do Cretáceo'\n",
    "    if dados['Período'] == 'Early Cretaceous 126-142 million years ago':\n",
    "        return 'Começo do Cretáceo'\n",
    "    if dados['Período'] == 'Late Cretaceous 75-81 million years ago':\n",
    "        return 'Fim do Cretáceo'\n",
    "    if dados['Período'] == 'Mid Jurassic 169-142 million years ago':\n",
    "        return 'Meio do Jurássico'\n",
    "    if dados['Período'] == 'Late Cretaceous 89-65 million years ago':\n",
    "        return 'Fim do Cretáceo'\n",
    "    if dados['Período'] == 'Late Cretaceous 83-75 million years ago':\n",
    "        return 'Fim do Cretáceo'\n",
    "    if dados['Período'] == 'Early Cretaceous 154-142 million years ago':\n",
    "        return 'Começo do Cretáceo'\n",
    "    if dados['Período'] == 'Late Cretaceous 75-68 million years ago':\n",
    "        return 'Fim do Cretáceo'\n",
    "    if dados['Período'] == 'Late Triassic 227-205 million years ago':\n",
    "        return 'Fim do Triássico'\n",
    "    if dados['Período'] == 'Late Cretaceous 85-70 million years ago':\n",
    "        return 'Fim do Cretáceo'\n",
    "    if dados['Período'] == 'Late Cretaceous 76-67 million years ago':\n",
    "        return 'Fim do Cretáceo'\n",
    "    if dados['Período'] == 'Late Jurassic 155-144 million years ago':\n",
    "        return 'Fim do Jurássico'\n",
    "    if dados['Período'] == 'Late Cretaceous 68-66 million years ago':\n",
    "        return 'Fim do Cretáceo'\n",
    "    if dados['Período'] == 'Late Jurassic 157-154 million years ago':\n",
    "        return 'Fim do Jurássico'\n",
    "    if dados['Período'] == 'Late Cretaceous 75-72 million years ago':\n",
    "        return 'Fim do Cretáceo'\n",
    "    if dados['Período'] == 'Late Cretaceous 94-86 million years ago':\n",
    "        return 'Fim do Cretáceo'\n",
    "    if dados['Período'] == 'Early Cretaceous 112-100 million years ago':\n",
    "        return 'Começo do Cretáceo'\n",
    "    if dados['Período'] == 'Early Cretaceous 142-121 million years ago':\n",
    "        return 'Começo do Cretáceo'\n",
    "    if dados['Período'] == 'Late Jurassic 160-144 million years ago':\n",
    "        return 'Fim do Jurássico'\n",
    "    if dados['Período'] == 'Early Jurassic 195-190 million years ago':\n",
    "        return 'Começo do Jurássico'\n",
    "    if dados['Período'] == 'Mid Jurassic 159-154 million years ago':\n",
    "        return 'Meio do Jurássico'\n",
    "    if dados['Período'] == 'Late Cretaceous 69 million years ago':\n",
    "        return 'Fim do Cretáceo'\n",
    "    \n",
    "def rename_regiao(dados):\n",
    "    if dados['Região/País'] == 'South Africa':\n",
    "        return 'África do Sul'\n",
    "    if dados['Região/País'] == 'Argentina':\n",
    "        return 'Argentina'\n",
    "    if dados['Região/País'] == 'USA':\n",
    "        return 'EUA'\n",
    "    if dados['Região/País'] == 'Mongolia':\n",
    "        return 'Mongolia'\n",
    "    if dados['Região/País'] == 'Egypt':\n",
    "        return 'Egito'\n",
    "    if dados['Região/País'] == 'Niger':\n",
    "        return 'Nigéria'\n",
    "    if dados['Região/País'] == 'China':\n",
    "        return 'China'\n",
    "    if dados['Região/País'] == 'Canada':\n",
    "        return 'Canadá'\n",
    "    if dados['Região/País'] == 'France':\n",
    "        return 'França'\n",
    "    if dados['Região/País'] == 'Uruguay':\n",
    "        return 'Uruguai'\n",
    "    if dados['Região/País'] == 'Spain':\n",
    "        return 'Espanha'\n",
    "    if dados['Região/País'] == 'Kazakhstan':\n",
    "        return 'Cazaquistão'\n",
    "    if dados['Região/País'] == 'Germany':\n",
    "        return 'Alemanha'\n",
    "    if dados['Região/País'] == 'Australia':\n",
    "        return 'Austrália'\n",
    "    if dados['Região/País'] == 'India':\n",
    "        return 'Índia'\n",
    "    if dados['Região/País'] == 'United Kingdom':\n",
    "        return 'Reino Unido'\n",
    "    if dados['Região/País'] == 'North Africa':\n",
    "        return 'África do Norte'\n",
    "    if dados['Região/País'] == 'Antarctica':\n",
    "        return 'Zimbábue'\n",
    "    if dados['Região/País'] == 'Antarctica':\n",
    "        return 'Antártida'\n",
    "    if dados['Região/País'] == 'Morocco':\n",
    "        return 'Marrocos'\n",
    "    if dados['Região/País'] == 'Tanzania':\n",
    "        return 'Tanzânia'\n",
    "    if dados['Região/País'] == 'Japan':\n",
    "        return 'Japão'\n",
    "    if dados['Região/País'] == 'nan':\n",
    "        return 'Não Identificado' # assumiremos que esse dinossauro não tivemos a possibilidade de identificar a origem\n",
    "    if dados['Região/País'] == 'Madagascar':\n",
    "        return 'Madagascar'\n",
    "    if dados['Região/País'] == 'Lesotho':\n",
    "        return 'Lesoto'\n",
    "    if dados['Região/País'] == 'Romania':\n",
    "        return 'Romênia'\n",
    "    if dados['Região/País'] == 'Malawi':\n",
    "        return 'Malawi'\n",
    "    if dados['Região/País'] == 'Tunisia':\n",
    "        return 'Tunísia'\n",
    "    if dados['Região/País'] == 'Wales':\n",
    "        return 'País de Gales'\n",
    "    if dados['Região/País'] == 'Russia':\n",
    "        return 'Rússia'\n",
    "    if dados['Região/País'] == 'Switzerland':\n",
    "        return 'Suíça'\n",
    "    \n",
    "def rename_tipo(dados):\n",
    "    if dados['Tipo'] == 'sauropod':\n",
    "        return 'Sauropoda'\n",
    "    if dados['Tipo'] == 'large theropod':\n",
    "        return 'Grande Theropoda'\n",
    "    if dados['Tipo'] == 'ceratopsian':\n",
    "        return 'Ceratopsia'\n",
    "    if dados['Tipo'] == 'euornithopod':\n",
    "        return 'Ornithopoda'\n",
    "    if dados['Tipo'] == 'small theropod':\n",
    "        return 'Pequeno Theropoda'\n",
    "    if dados['Tipo'] == 'armoured dinosaur':\n",
    "        return 'Thyreophora/Dinossauro de Armadura'\n",
    "    if dados['Tipo'] == '1.0m': # é bem provável que seja o dinossauro que estamos com informações atrapalhadas, mas encontraremos ele!\n",
    "        return 'Dado Incorreto'"
   ]
  },
  {
   "cell_type": "code",
   "execution_count": 14,
   "id": "ed52f787",
   "metadata": {},
   "outputs": [
    {
     "data": {
      "text/html": [
       "<div>\n",
       "<style scoped>\n",
       "    .dataframe tbody tr th:only-of-type {\n",
       "        vertical-align: middle;\n",
       "    }\n",
       "\n",
       "    .dataframe tbody tr th {\n",
       "        vertical-align: top;\n",
       "    }\n",
       "\n",
       "    .dataframe thead th {\n",
       "        text-align: right;\n",
       "    }\n",
       "</style>\n",
       "<table border=\"1\" class=\"dataframe\">\n",
       "  <thead>\n",
       "    <tr style=\"text-align: right;\">\n",
       "      <th></th>\n",
       "      <th>Nome do Dinossauro</th>\n",
       "      <th>Dieta</th>\n",
       "      <th>Período</th>\n",
       "      <th>Região/País</th>\n",
       "      <th>Tipo</th>\n",
       "      <th>Comprimento</th>\n",
       "      <th>Taxonomia</th>\n",
       "      <th>Nomeado por</th>\n",
       "      <th>Espécie</th>\n",
       "      <th>link;</th>\n",
       "    </tr>\n",
       "  </thead>\n",
       "  <tbody>\n",
       "    <tr>\n",
       "      <th>0</th>\n",
       "      <td>aardonyx</td>\n",
       "      <td>herbívoro</td>\n",
       "      <td>Começo do Jurássico</td>\n",
       "      <td>África do Sul</td>\n",
       "      <td>Sauropoda</td>\n",
       "      <td>8.0m</td>\n",
       "      <td>Dinosauria Saurischia Sauropodomorpha Prosauro...</td>\n",
       "      <td>Yates Bonnan Neveling Chinsamy and Blackbeard ...</td>\n",
       "      <td>celestae</td>\n",
       "      <td>https://www.nhm.ac.uk/discover/dino-directory/...</td>\n",
       "    </tr>\n",
       "    <tr>\n",
       "      <th>1</th>\n",
       "      <td>abelisaurus</td>\n",
       "      <td>carnívoro</td>\n",
       "      <td>Fim do Cretáceo</td>\n",
       "      <td>Argentina</td>\n",
       "      <td>Grande Theropoda</td>\n",
       "      <td>9.0m</td>\n",
       "      <td>Dinosauria Saurischia Theropoda Neotheropoda C...</td>\n",
       "      <td>Bonaparte and Novas (1985)</td>\n",
       "      <td>comahuensis</td>\n",
       "      <td>https://www.nhm.ac.uk/discover/dino-directory/...</td>\n",
       "    </tr>\n",
       "    <tr>\n",
       "      <th>2</th>\n",
       "      <td>achelousaurus</td>\n",
       "      <td>herbívoro</td>\n",
       "      <td>Fim do Cretáceo</td>\n",
       "      <td>EUA</td>\n",
       "      <td>Ceratopsia</td>\n",
       "      <td>6.0m</td>\n",
       "      <td>Dinosauria Ornithischia Genasauria Cerapoda Ma...</td>\n",
       "      <td>Sampson  (1995)</td>\n",
       "      <td>horneri</td>\n",
       "      <td>https://www.nhm.ac.uk/discover/dino-directory/...</td>\n",
       "    </tr>\n",
       "    <tr>\n",
       "      <th>3</th>\n",
       "      <td>achillobator</td>\n",
       "      <td>carnívoro</td>\n",
       "      <td>Fim do Cretáceo</td>\n",
       "      <td>Mongolia</td>\n",
       "      <td>Grande Theropoda</td>\n",
       "      <td>5.0m</td>\n",
       "      <td>Dinosauria Saurischia Theropoda Neotheropoda T...</td>\n",
       "      <td>Perle Norell and Clark (1999)</td>\n",
       "      <td>giganteus</td>\n",
       "      <td>https://www.nhm.ac.uk/discover/dino-directory/...</td>\n",
       "    </tr>\n",
       "    <tr>\n",
       "      <th>4</th>\n",
       "      <td>acrocanthosaurus</td>\n",
       "      <td>carnívoro</td>\n",
       "      <td>Começo do Cretáceo</td>\n",
       "      <td>EUA</td>\n",
       "      <td>Grande Theropoda</td>\n",
       "      <td>12.0m</td>\n",
       "      <td>Dinosauria Saurischia Theropoda Neotheropoda T...</td>\n",
       "      <td>Stovall and Langston (1950)</td>\n",
       "      <td>atokensis</td>\n",
       "      <td>https://www.nhm.ac.uk/discover/dino-directory/...</td>\n",
       "    </tr>\n",
       "  </tbody>\n",
       "</table>\n",
       "</div>"
      ],
      "text/plain": [
       "  Nome do Dinossauro      Dieta              Período    Região/País  \\\n",
       "0           aardonyx  herbívoro  Começo do Jurássico  África do Sul   \n",
       "1        abelisaurus  carnívoro      Fim do Cretáceo      Argentina   \n",
       "2      achelousaurus  herbívoro      Fim do Cretáceo            EUA   \n",
       "3       achillobator  carnívoro      Fim do Cretáceo       Mongolia   \n",
       "4   acrocanthosaurus  carnívoro   Começo do Cretáceo            EUA   \n",
       "\n",
       "               Tipo Comprimento  \\\n",
       "0         Sauropoda        8.0m   \n",
       "1  Grande Theropoda        9.0m   \n",
       "2        Ceratopsia        6.0m   \n",
       "3  Grande Theropoda        5.0m   \n",
       "4  Grande Theropoda       12.0m   \n",
       "\n",
       "                                           Taxonomia  \\\n",
       "0  Dinosauria Saurischia Sauropodomorpha Prosauro...   \n",
       "1  Dinosauria Saurischia Theropoda Neotheropoda C...   \n",
       "2  Dinosauria Ornithischia Genasauria Cerapoda Ma...   \n",
       "3  Dinosauria Saurischia Theropoda Neotheropoda T...   \n",
       "4  Dinosauria Saurischia Theropoda Neotheropoda T...   \n",
       "\n",
       "                                         Nomeado por      Espécie  \\\n",
       "0  Yates Bonnan Neveling Chinsamy and Blackbeard ...     celestae   \n",
       "1                         Bonaparte and Novas (1985)  comahuensis   \n",
       "2                                    Sampson  (1995)      horneri   \n",
       "3                      Perle Norell and Clark (1999)    giganteus   \n",
       "4                        Stovall and Langston (1950)    atokensis   \n",
       "\n",
       "                                               link;  \n",
       "0  https://www.nhm.ac.uk/discover/dino-directory/...  \n",
       "1  https://www.nhm.ac.uk/discover/dino-directory/...  \n",
       "2  https://www.nhm.ac.uk/discover/dino-directory/...  \n",
       "3  https://www.nhm.ac.uk/discover/dino-directory/...  \n",
       "4  https://www.nhm.ac.uk/discover/dino-directory/...  "
      ]
     },
     "execution_count": 14,
     "metadata": {},
     "output_type": "execute_result"
    }
   ],
   "source": [
    "# aplicaremos as traduções das colunas ao DF\n",
    "dados['Dieta'] = dados.apply(rename_dieta, axis=1)\n",
    "dados['Período'] = dados.apply(rename_periodo, axis=1)\n",
    "dados['Região/País'] = dados.apply(rename_regiao, axis=1)\n",
    "dados['Tipo'] = dados.apply(rename_tipo, axis=1)\n",
    "dados.head()"
   ]
  },
  {
   "cell_type": "code",
   "execution_count": 15,
   "id": "13ed2f91",
   "metadata": {},
   "outputs": [
    {
     "data": {
      "text/plain": [
       "count      291\n",
       "unique      73\n",
       "top       6.0m\n",
       "freq        21\n",
       "Name: Comprimento, dtype: object"
      ]
     },
     "execution_count": 15,
     "metadata": {},
     "output_type": "execute_result"
    }
   ],
   "source": [
    "#trocando as letras do DF que estão em minúsculas para maiúsculas.\n",
    "dados['Nome do Dinossauro'] = dados['Nome do Dinossauro'].str.capitalize()\n",
    "dados['Dieta'] = dados['Dieta'].str.capitalize()\n",
    "dados['Espécie'] = dados['Espécie'].str.capitalize()\n",
    "dados['Comprimento'].describe()"
   ]
  },
  {
   "cell_type": "markdown",
   "id": "f884a02f",
   "metadata": {},
   "source": [
    "Teremos mais um ajuste no dataset se pretendemos utilizar a coluna de comprimento, pois precisamos de valores numéricos."
   ]
  },
  {
   "cell_type": "code",
   "execution_count": 16,
   "id": "cb7d320c",
   "metadata": {},
   "outputs": [],
   "source": [
    "# Escolherei aqui os números como float, pois comprimento possui casas decimais\n",
    "dados['Comprimento'] = dados['Comprimento'].str.replace('m', '').astype(float)"
   ]
  },
  {
   "cell_type": "code",
   "execution_count": 17,
   "id": "2175c43e",
   "metadata": {},
   "outputs": [
    {
     "data": {
      "text/plain": [
       "count    291.000000\n",
       "mean       7.200584\n",
       "std        6.311137\n",
       "min        0.250000\n",
       "25%        2.400000\n",
       "50%        6.000000\n",
       "75%        9.000000\n",
       "max       35.000000\n",
       "Name: Comprimento, dtype: float64"
      ]
     },
     "execution_count": 17,
     "metadata": {},
     "output_type": "execute_result"
    }
   ],
   "source": [
    "dados['Comprimento'].describe()"
   ]
  },
  {
   "cell_type": "markdown",
   "id": "8af4ed56",
   "metadata": {},
   "source": [
    "Podemos observar que a média de comprimentos dos dinossauros do dataset é de 7.20m. Notamos também o quanto é discrepante o menor comprimento de dinossauro 0.25m quando buscamos o maior deles 35.00m --- não sei se é um outlier realmente essa diferença ou o nosso dinossauro com dados atrapalhados lá em cima, pois existem dinossauros catálogados no mundo como micro dinos. Um exemplo deles é o Microraptor... \n",
    "Mas, vamos ver se temos um outlier por aqui."
   ]
  },
  {
   "cell_type": "code",
   "execution_count": 18,
   "id": "99c65733",
   "metadata": {
    "scrolled": false
   },
   "outputs": [
    {
     "data": {
      "text/plain": [
       "<AxesSubplot:xlabel='Tipo', ylabel='Comprimento'>"
      ]
     },
     "execution_count": 18,
     "metadata": {},
     "output_type": "execute_result"
    },
    {
     "data": {
      "image/png": "[encoded data removed]",
      "text/plain": [
       "<Figure size 1820x600 with 1 Axes>"
      ]
     },
     "metadata": {},
     "output_type": "display_data"
    }
   ],
   "source": [
    "# a maneira que considero mais fácil de identificar visualmente um outlier é através de um boxplot\n",
    "# aqui prefiro plotar um boxplot pelo tipo de dinossauro no eixo x e o comprimento deles no eixo y\n",
    "# seria a maneira mais fácil de identificarmos os outliers, pois lá nas traduções demos o nome de \"Dado Incorreto\" \n",
    "# para um dos tipos que estava \"gritando\" outlier\n",
    "boxplot_dinos = plt.figure(figsize=(18.2, 6))\n",
    "sns.boxplot('Tipo', 'Comprimento', data= dados, width = 0.6)"
   ]
  },
  {
   "cell_type": "markdown",
   "id": "de74cac9",
   "metadata": {},
   "source": [
    "Não temos informações onde classificamos como \"Dado Incorreto\", a presença de outliers estão em outros tipos de dinossauros, mas ignoraremos essa informação, pois não é estranho ou discrepante demais os comprimentos ali marcados para tais tipos. \n",
    "\n",
    "Quando falamos de Grandes Theropodas(ou Theropodas Gigantes) podemos dar o exemplo de um dos mais famosos, o Spinossauro, que possuia cerca de 15m de comprimento (as vezes até mais). \n",
    "Ao falarmos de Pequenos Theropodas podemos falar do já mencionado Microraptor, com seu \"gigantesco tamanho\" que podia chegar de 50cm a 70cm de comprimento.\n",
    "\n",
    "Fonte: Wikipedia\n",
    "\n",
    "Sendo assim, podemos considerar que estamos no caminho certo para a conclusão dos nossos problemas definidos."
   ]
  },
  {
   "cell_type": "markdown",
   "id": "c75f2192",
   "metadata": {},
   "source": [
    "### 3. Visualizações"
   ]
  },
  {
   "cell_type": "markdown",
   "id": "3082f015",
   "metadata": {},
   "source": [
    "Com base no nosso dataset podemos tirar alguns insights extras antes da resolução dos nossos três problemas estipulados no começo do projeto, vamos ver?"
   ]
  },
  {
   "cell_type": "markdown",
   "id": "fc104461",
   "metadata": {},
   "source": [
    "###### a) Qual será o país com o maior número de dinossauros catalogados no diretório? "
   ]
  },
  {
   "cell_type": "code",
   "execution_count": 19,
   "id": "1811ab86",
   "metadata": {
    "scrolled": false
   },
   "outputs": [
    {
     "data": {
      "text/plain": [
       "<AxesSubplot:title={'center':'Dinossauros Por Região/País'}>"
      ]
     },
     "execution_count": 19,
     "metadata": {},
     "output_type": "execute_result"
    },
    {
     "data": {
      "image/png": "[encoded data removed]",
      "text/plain": [
       "<Figure size 640x480 with 1 Axes>"
      ]
     },
     "metadata": {},
     "output_type": "display_data"
    }
   ],
   "source": [
    "fig1 = dados['Região/País'].value_counts().plot.barh(color = 'steelblue')\n",
    "plt.gca().invert_yaxis() \n",
    "plt.title(\"Dinossauros Por Região/País\")\n",
    "fig1"
   ]
  },
  {
   "cell_type": "markdown",
   "id": "3242cf9d",
   "metadata": {},
   "source": [
    "Os EUA é o país com o maior número de dinossauros catalogados no diretório de dinossauros do Museu de História Natural do Reino Unido. \n"
   ]
  },
  {
   "cell_type": "markdown",
   "id": "7f38b769",
   "metadata": {},
   "source": [
    "###### b) Qual o período com mais dinossauros no diretório?"
   ]
  },
  {
   "cell_type": "code",
   "execution_count": 20,
   "id": "347a16d9",
   "metadata": {
    "scrolled": false
   },
   "outputs": [
    {
     "data": {
      "text/plain": [
       "<AxesSubplot:title={'center':'Dinossauros Por Período'}>"
      ]
     },
     "execution_count": 20,
     "metadata": {},
     "output_type": "execute_result"
    },
    {
     "data": {
      "image/png": "[encoded data removed]",
      "text/plain": [
       "<Figure size 640x480 with 1 Axes>"
      ]
     },
     "metadata": {},
     "output_type": "display_data"
    }
   ],
   "source": [
    "fig2 = dados['Período'].value_counts().plot.barh(color = 'steelblue')\n",
    "plt.gca().invert_yaxis() \n",
    "plt.title(\"Dinossauros Por Período\")\n",
    "fig2"
   ]
  },
  {
   "cell_type": "markdown",
   "id": "f443f294",
   "metadata": {},
   "source": [
    "O maior número de dinossauros catalogados é do Fim do Cretáceo"
   ]
  },
  {
   "cell_type": "markdown",
   "id": "f386edfd",
   "metadata": {},
   "source": [
    "##### c) Quais os maiores dinossauros do diretório?"
   ]
  },
  {
   "cell_type": "code",
   "execution_count": 21,
   "id": "bfb30c67",
   "metadata": {
    "scrolled": false
   },
   "outputs": [
    {
     "data": {
      "text/plain": [
       "309"
      ]
     },
     "execution_count": 21,
     "metadata": {},
     "output_type": "execute_result"
    }
   ],
   "source": [
    "dados['Nome do Dinossauro'].count()"
   ]
  },
  {
   "cell_type": "markdown",
   "id": "d7423971",
   "metadata": {},
   "source": [
    "Como temos 309 dinossauros catalogados, é melhor escolhermos os 5 maiores para visualizarmos, não é mesmo?"
   ]
  },
  {
   "cell_type": "code",
   "execution_count": 22,
   "id": "d12147aa",
   "metadata": {
    "scrolled": false
   },
   "outputs": [
    {
     "data": {
      "text/plain": [
       "(<Figure size 1000x500 with 1 Axes>,\n",
       " <AxesSubplot:title={'center':'Maiores 5 Dinossauros'}, ylabel='Comprimento (m)'>)"
      ]
     },
     "execution_count": 22,
     "metadata": {},
     "output_type": "execute_result"
    },
    {
     "data": {
      "image/png": "[encoded data removed]",
      "text/plain": [
       "<Figure size 1000x500 with 1 Axes>"
      ]
     },
     "metadata": {},
     "output_type": "display_data"
    }
   ],
   "source": [
    "# separando esses dinossauros\n",
    "colunas = ['Nome do Dinossauro', 'Comprimento', 'Região/País']\n",
    "maiores_dinos = dados.nlargest(n = 5, columns = 'Comprimento')[colunas]\n",
    "maiores_dinos\n",
    "\n",
    "# agora podemos visualizar!\n",
    "fig3 = fig, ax = plt.subplots(figsize=(10, 5))\n",
    "sns.barplot(x= 'Nome do Dinossauro', y= 'Comprimento', data=maiores_dinos)\n",
    "plt.title('Maiores 5 Dinossauros')\n",
    "plt.ylabel('Comprimento (m)')\n",
    "plt.xlabel('')\n",
    "fig3"
   ]
  },
  {
   "cell_type": "markdown",
   "id": "0735b8c2",
   "metadata": {},
   "source": [
    "Temos nossos gigantes: Argentinosaurus e o Supersaurus com 35m de comprimento!"
   ]
  },
  {
   "cell_type": "markdown",
   "id": "2eb8708c",
   "metadata": {},
   "source": [
    "## Vamos resolver os problemas propostos?"
   ]
  },
  {
   "cell_type": "markdown",
   "id": "243a78af",
   "metadata": {},
   "source": [
    "###### Em quais países identificamos os maiores dinossauros?"
   ]
  },
  {
   "cell_type": "code",
   "execution_count": 23,
   "id": "c70fbc34",
   "metadata": {
    "scrolled": false
   },
   "outputs": [
    {
     "data": {
      "text/plain": [
       "(<Figure size 1000x500 with 1 Axes>,\n",
       " <AxesSubplot:title={'center':'Maiores 5 Dinossauros'}, ylabel='Comprimento (m)'>)"
      ]
     },
     "execution_count": 23,
     "metadata": {},
     "output_type": "execute_result"
    },
    {
     "data": {
      "image/png": "[encoded data removed]",
      "text/plain": [
       "<Figure size 1000x500 with 1 Axes>"
      ]
     },
     "metadata": {},
     "output_type": "display_data"
    }
   ],
   "source": [
    "fig, ax = plt.subplots(figsize=(10, 5))\n",
    "sns.barplot(x= 'Região/País', y= 'Comprimento', data=maiores_dinos)\n",
    "plt.title('Maiores Dinos Por País')\n",
    "plt.ylabel('Comprimento (m)')\n",
    "plt.xlabel('')\n",
    "fig3"
   ]
  },
  {
   "cell_type": "markdown",
   "id": "bb743c3b",
   "metadata": {},
   "source": [
    "Podemos observar que os maiores dinossauros encontram-se na Argentina, EUA e Egito! \n",
    "Notamos aquela linha na extremidade da barra que representa os EUA, isso quer dizer que há outro(s) grande(s) dinossauro(s) identificados no país!"
   ]
  },
  {
   "cell_type": "markdown",
   "id": "ddc5bd80",
   "metadata": {},
   "source": [
    "###### Qual o tipo da dieta de dinossauro mais catalogada diretório? (carnívoro, herbívoro, onívoro)"
   ]
  },
  {
   "cell_type": "code",
   "execution_count": 25,
   "id": "e4da1d89",
   "metadata": {},
   "outputs": [
    {
     "data": {
      "text/plain": [
       "<AxesSubplot:title={'center':'Dinossauros Por Dieta'}>"
      ]
     },
     "execution_count": 25,
     "metadata": {},
     "output_type": "execute_result"
    },
    {
     "data": {
      "image/png": "[encoded data removed]",
      "text/plain": [
       "<Figure size 640x480 with 1 Axes>"
      ]
     },
     "metadata": {},
     "output_type": "display_data"
    }
   ],
   "source": [
    "fig4 = dados['Dieta'].value_counts().plot.barh(color = 'steelblue')\n",
    "plt.gca().invert_yaxis() \n",
    "plt.title(\"Dinossauros Por Dieta\")\n",
    "fig4"
   ]
  },
  {
   "cell_type": "markdown",
   "id": "b890671a",
   "metadata": {},
   "source": [
    "Notamos que o tipo de dieta mais catalogado em nosso dataset são de dinossauros herbívoros"
   ]
  },
  {
   "cell_type": "markdown",
   "id": "6801f53d",
   "metadata": {},
   "source": [
    "### Conclusão\n",
    "\n",
    "O objetivo projeto de treino de DataViz, foi além da resolução dos 3 problemas propostos, foi mostrar como a visualização dos dados de maneira 2D nos auxilia na possibilidade de tirarmos outros insights além do que nos é proposto com um conjunto de dados de maneira básica.\n",
    "\n",
    "\n",
    "\n",
    "Dinossauros são uma paixão minha desde de criança, resolvi utilizar o tema como um dos meus primeiros projetos-treino. Onde acabei focando no tratamento dos dados por \"capricho\", no intuito de tradução das variáveis como um passatempo e utilizar de recursos que aprendi muito mais através de pesquisa nas bibliotecas, antes de querer me aprofundar na área e optando por uma graduação."
   ]
  },
  {
   "cell_type": "markdown",
   "id": "ab862c8e",
   "metadata": {},
   "source": [
    "### Pontos de melhoria: \n",
    " - Com certeza uma melhor forma de extrair as traduções! O código ficou extremamente repetitivo, poderia ter criado um dicionário com listas, mas tenho certeza que a utilização de um API teria salvado o tamanho do código.\n",
    " - Não trabalhar com tantos caracteres especiais como acentos nos nomes das colunas, pois não facilita muito os códigos."
   ]
  },
  {
   "cell_type": "code",
   "execution_count": null,
   "id": "6ea43b26",
   "metadata": {},
   "outputs": [],
   "source": []
  }
 ],
 "metadata": {
  "kernelspec": {
   "display_name": "Python 3 (ipykernel)",
   "language": "python",
   "name": "python3"
  },
  "language_info": {
   "codemirror_mode": {
    "name": "ipython",
    "version": 3
   },
   "file_extension": ".py",
   "mimetype": "text/x-python",
   "name": "python",
   "nbconvert_exporter": "python",
   "pygments_lexer": "ipython3",
   "version": "3.9.13"
  }
 },
 "nbformat": 4,
 "nbformat_minor": 5
}
